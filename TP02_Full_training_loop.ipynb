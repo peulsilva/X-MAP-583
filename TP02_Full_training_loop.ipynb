{
 "cells": [
  {
   "cell_type": "markdown",
   "metadata": {
    "colab_type": "text",
    "id": "view-in-github"
   },
   "source": [
    "<a href=\"https://colab.research.google.com/github/kscaman/MAP583/blob/main/TP/TP02_Full_training_loop.ipynb\" target=\"_parent\"><img src=\"https://colab.research.google.com/assets/colab-badge.svg\" alt=\"Open In Colab\"/></a>"
   ]
  },
  {
   "cell_type": "markdown",
   "id": "1ed4f724",
   "metadata": {
    "id": "1ed4f724"
   },
   "source": [
    "# TP02 - Cross entropy loss and handwritten character recognition\n",
    "In this practical, we will first **re-implement the cross entropy loss**, and then write our first proper **training and testing pipeline** for a **handwritten character recognition task** (small version of the [MNIST](https://en.wikipedia.org/wiki/MNIST_database) dataset).\n",
    "\n",
    "**FYI:** GPUs are not necessary for this practical."
   ]
  },
  {
   "cell_type": "code",
   "execution_count": 1,
   "id": "GGNhWCbT4qFH",
   "metadata": {
    "id": "GGNhWCbT4qFH"
   },
   "outputs": [
    {
     "name": "stdout",
     "output_type": "stream",
     "text": [
      "Using gpu: False \n"
     ]
    }
   ],
   "source": [
    "import matplotlib.pyplot as plt\n",
    "import numpy as np\n",
    "import torch\n",
    "from torch import nn\n",
    "\n",
    "device = torch.device(\"cuda:0\" if torch.cuda.is_available() else \"cpu\")\n",
    "print('Using gpu: %s ' % torch.cuda.is_available())"
   ]
  },
  {
   "cell_type": "markdown",
   "id": "2nes_ZtBoBu0",
   "metadata": {
    "id": "2nes_ZtBoBu0"
   },
   "source": [
    "# Part A - Reimplementing loss functions\n",
    "\n",
    "## A.0 - Combining losses\n",
    "First, we recall that, for a batch of score vectors $s\\in\\mathbb{R}^{n\\times C}$ and true labels $y\\in[1,C]^n$, **cross entropy** is defined as\n",
    "$$CE(s, y) = -\\frac{1}{n}\\sum_{i=1}^n \\log\\left( {softmax}(s_i)_{y_i} \\right)$$\n",
    "\n",
    "where ${softmax}(x)_i = \\frac{e^{x_i}}{\\sum_{j=1}^n e^{x_j}}$ is the probability associated to class $i\\in[1,C]$ for a score vector $x\\in\\mathbb{R}^C$.\n",
    "\n",
    "Let's try to compute cross-entropy in three different ways (see the [documentation](https://pytorch.org/docs/stable/generated/torch.nn.CrossEntropyLoss.html)):\n",
    "1. Using `nn.CrossEntropyLoss()`.\n",
    "2. Using `nn.NLLLoss()` and `nn.LogSoftmax()`.\n",
    "3. Using `nn.NLLLoss()` and `nn.Softmax()`.\n",
    "\n",
    "Check that the output is the same for all three methods on Gaussian random scores `torch.randn(n_batch, n_classes)` and random labels `torch.randint(0, n_classes, [n_batch])`, where `n_batch=4` and `n_classes=10`. Note that the scores are real valued vectors while the labels are integers corresponding to the true class."
   ]
  },
  {
   "cell_type": "code",
   "execution_count": 41,
   "id": "e1b6c172",
   "metadata": {
    "id": "e1b6c172"
   },
   "outputs": [],
   "source": [
    "### YOUR CODE HERE ###\n",
    "\n",
    "n_batch = 4\n",
    "n_classes = 10\n",
    "\n",
    "scores = torch.randn(size=(n_batch, n_classes))\n",
    "labels = torch.randint(0, n_classes, [n_batch])"
   ]
  },
  {
   "cell_type": "code",
   "execution_count": 42,
   "id": "0586facf",
   "metadata": {},
   "outputs": [],
   "source": [
    "loss1 = nn.CrossEntropyLoss()\n",
    "loss2 = nn.NLLLoss()"
   ]
  },
  {
   "cell_type": "code",
   "execution_count": 43,
   "id": "37ecd6b8",
   "metadata": {},
   "outputs": [
    {
     "data": {
      "text/plain": [
       "tensor(2.8227)"
      ]
     },
     "execution_count": 43,
     "metadata": {},
     "output_type": "execute_result"
    }
   ],
   "source": [
    "loss1(scores, labels)"
   ]
  },
  {
   "cell_type": "code",
   "execution_count": 44,
   "id": "7311f209",
   "metadata": {},
   "outputs": [
    {
     "data": {
      "text/plain": [
       "tensor(2.8227)"
      ]
     },
     "execution_count": 44,
     "metadata": {},
     "output_type": "execute_result"
    }
   ],
   "source": [
    "loss2(torch.log_softmax(scores, dim = -1), labels)"
   ]
  },
  {
   "cell_type": "markdown",
   "id": "TWKaTBVd5ftN",
   "metadata": {
    "id": "TWKaTBVd5ftN"
   },
   "source": [
    "## A.1 - Re-implementation\n",
    "Now re-implement cross-entropy using base functions (`torch.log`, `torch.exp`, `torch.sum`, etc...). Verify that your function returns the same value as Pytorch's implementation."
   ]
  },
  {
   "cell_type": "code",
   "execution_count": 45,
   "id": "EfA-3-E7qwgF",
   "metadata": {
    "id": "EfA-3-E7qwgF"
   },
   "outputs": [],
   "source": [
    "### YOUR CODE HERE ###\n",
    "def cross_entropy(scores : torch.Tensor, labels : torch.Tensor):\n",
    "    exp_scores = torch.exp(scores)\n",
    "    softmax_probs = exp_scores / exp_scores.sum(dim=1, keepdim=True)\n",
    "\n",
    "    batch_size = scores.shape[0]\n",
    "    correct_class_probs = softmax_probs[torch.arange(batch_size), labels]\n",
    "\n",
    "    neg_log_likelihood = -torch.log(correct_class_probs)\n",
    "    loss = neg_log_likelihood.mean()\n",
    "    \n",
    "    return loss"
   ]
  },
  {
   "cell_type": "code",
   "execution_count": 46,
   "id": "8290098d",
   "metadata": {},
   "outputs": [
    {
     "data": {
      "text/plain": [
       "tensor(2.8227)"
      ]
     },
     "execution_count": 46,
     "metadata": {},
     "output_type": "execute_result"
    }
   ],
   "source": [
    "cross_entropy(scores, labels)"
   ]
  },
  {
   "cell_type": "markdown",
   "id": "OFG0QfKN7WtO",
   "metadata": {
    "id": "OFG0QfKN7WtO"
   },
   "source": [
    "## A.2 - Stability analysis\n",
    "Softmax probabilities can be relatively unstable due to their use of exponentials. Pytorch implementations thus usually use log probas or logits to avoid overflows or floating point errors. Test all methods (including your own) on Gaussian random scores of standard deviation equal to $100$. Which methods are stable? Why? Is it an issue in practice?"
   ]
  },
  {
   "cell_type": "code",
   "execution_count": 47,
   "id": "4579b456",
   "metadata": {
    "id": "4579b456"
   },
   "outputs": [],
   "source": [
    "### YOUR CODE HERE ###\n",
    "scores, labels = 100*torch.randn(size=(n_batch, n_classes)), torch.randint(0, n_classes, [n_batch])"
   ]
  },
  {
   "cell_type": "code",
   "execution_count": 48,
   "id": "330a79eb",
   "metadata": {},
   "outputs": [
    {
     "name": "stdout",
     "output_type": "stream",
     "text": [
      "CE own implementation: nan\n",
      "CE pytorch: 19.92867088317871\n"
     ]
    }
   ],
   "source": [
    "print(f\"CE own implementation: {cross_entropy(scores, labels)}\")\n",
    "print(f\"CE pytorch: {loss1(scores, labels)}\")"
   ]
  },
  {
   "cell_type": "markdown",
   "id": "Y3y4BfwbBIGy",
   "metadata": {
    "id": "Y3y4BfwbBIGy"
   },
   "source": [
    "Re-implement a stable version of cross-entropy."
   ]
  },
  {
   "cell_type": "code",
   "execution_count": 103,
   "id": "b75Y4Gr_yb2N",
   "metadata": {
    "id": "b75Y4Gr_yb2N"
   },
   "outputs": [],
   "source": [
    "### YOUR CODE HERE ###\n",
    "def cross_entropy_stable(scores : torch.Tensor, labels : torch.Tensor):\n",
    "    max_score = scores.max(dim = 1, keepdim = True).values\n",
    "    log_softmax_probs = scores - (max_score + torch.log(torch.exp(scores-max_score).sum(dim=1, keepdim=True)))\n",
    "\n",
    "    batch_size = scores.shape[0]\n",
    "    correct_class_logits = log_softmax_probs[torch.arange(batch_size), labels]\n",
    "\n",
    "    neg_log_likelihood = -correct_class_logits\n",
    "    loss = neg_log_likelihood.mean()\n",
    "    \n",
    "    return loss"
   ]
  },
  {
   "cell_type": "code",
   "execution_count": 104,
   "id": "aa4fd784",
   "metadata": {},
   "outputs": [
    {
     "name": "stdout",
     "output_type": "stream",
     "text": [
      "CE own implementation: nan\n",
      "CE own implementation stable: 19.92867088317871\n",
      "CE pytorch: 19.92867088317871\n"
     ]
    }
   ],
   "source": [
    "print(f\"CE own implementation: {cross_entropy(scores, labels)}\")\n",
    "print(f\"CE own implementation stable: {cross_entropy_stable(scores, labels)}\")\n",
    "print(f\"CE pytorch: {loss1(scores, labels)}\")"
   ]
  },
  {
   "cell_type": "markdown",
   "id": "65e20f5e",
   "metadata": {
    "id": "65e20f5e"
   },
   "source": [
    "# Part B - Handwritten character recognition\n",
    "\n",
    "## B.0 - Dataloader\n",
    "Import `load_digits` from `sklearn.datasets` (see the [documentation](https://scikit-learn.org/stable/modules/generated/sklearn.datasets.load_digits.html)), load the corresponding dataset and extract the images, data (i.e. flattened version of the images) and targets (i.e. the labels)."
   ]
  },
  {
   "cell_type": "code",
   "execution_count": 55,
   "id": "f573f740",
   "metadata": {
    "id": "f573f740"
   },
   "outputs": [],
   "source": [
    "### YOUR CODE HERE ###\n",
    "from sklearn.datasets import load_digits\n",
    "digits = load_digits()"
   ]
  },
  {
   "cell_type": "code",
   "execution_count": 57,
   "id": "61351ded",
   "metadata": {},
   "outputs": [
    {
     "data": {
      "text/plain": [
       "dict_keys(['data', 'target', 'frame', 'feature_names', 'target_names', 'images', 'DESCR'])"
      ]
     },
     "execution_count": 57,
     "metadata": {},
     "output_type": "execute_result"
    }
   ],
   "source": [
    "digits.keys()"
   ]
  },
  {
   "cell_type": "markdown",
   "id": "0LJQz-EID1D1",
   "metadata": {
    "id": "0LJQz-EID1D1"
   },
   "source": [
    "\n",
    "Display the first image and its label."
   ]
  },
  {
   "cell_type": "code",
   "execution_count": 75,
   "id": "d2ca7a04",
   "metadata": {
    "id": "d2ca7a04"
   },
   "outputs": [
    {
     "name": "stdout",
     "output_type": "stream",
     "text": [
      "Label of first image: 0\n"
     ]
    },
    {
     "data": {
      "image/png": "[encoded data removed]",
      "text/plain": [
       "<Figure size 640x480 with 1 Axes>"
      ]
     },
     "metadata": {},
     "output_type": "display_data"
    }
   ],
   "source": [
    "### YOUR CODE HERE ###\n",
    "plt.gray()\n",
    "plt.imshow(digits['data'][0].reshape(8,-1))\n",
    "\n",
    "print(f\"Label of first image: {digits['target'][0]}\")"
   ]
  },
  {
   "cell_type": "markdown",
   "id": "76O7R7KxEFJW",
   "metadata": {
    "id": "76O7R7KxEFJW"
   },
   "source": [
    "Then, create two PyTorch datasets and dataloaders with a batch size of $50$ for this task: one for the train (80% of the dataset) and one for the test (remaining 20% of the dataset)."
   ]
  },
  {
   "cell_type": "code",
   "execution_count": 76,
   "id": "84d3fdb0",
   "metadata": {
    "id": "84d3fdb0"
   },
   "outputs": [],
   "source": [
    "### YOUR CODE HERE ###\n",
    "import pandas as pd"
   ]
  },
  {
   "cell_type": "code",
   "execution_count": 108,
   "id": "ad92ef70",
   "metadata": {},
   "outputs": [],
   "source": [
    "from torch.utils.data import Dataset, DataLoader\n",
    "\n",
    "class ImageDataset(Dataset):\n",
    "    def __init__(self, pixels : torch.Tensor, targets : torch.Tensor):\n",
    "        super().__init__()\n",
    "\n",
    "        self.pixels = pixels\n",
    "        self.target = targets\n",
    "\n",
    "    def __len__(self):\n",
    "        return len(self.pixels)\n",
    "    \n",
    "    def __getitem__(self, index):\n",
    "        return self.pixels[index], self.target[index]"
   ]
  },
  {
   "cell_type": "code",
   "execution_count": 109,
   "id": "136b0c65",
   "metadata": {},
   "outputs": [],
   "source": [
    "train_frac = 0.8\n",
    "all_idx = np.arange(len(digits['data']))\n",
    "\n",
    "train_idx = np.random.choice(len(digits['data']),size = int(train_frac * len(digits['data'])), replace=False)\n",
    "test_idx = np.setdiff1d(all_idx, train_idx)"
   ]
  },
  {
   "cell_type": "code",
   "execution_count": 110,
   "id": "4fbe3bb5",
   "metadata": {},
   "outputs": [],
   "source": [
    "train_dataset = ImageDataset(\n",
    "    torch.Tensor(digits['data'][train_idx]),\n",
    "    torch.Tensor(digits['target'][train_idx])\n",
    ")\n",
    "\n",
    "test_dataset = ImageDataset(\n",
    "    torch.Tensor(digits['data'][test_idx]),\n",
    "    torch.Tensor(digits['target'][test_idx])\n",
    ")\n"
   ]
  },
  {
   "cell_type": "code",
   "execution_count": 111,
   "id": "0e48b7ef",
   "metadata": {},
   "outputs": [],
   "source": [
    "train_dataloader = DataLoader(\n",
    "    train_dataset,\n",
    "    batch_size= 50\n",
    ")\n",
    "\n",
    "test_dataloader = DataLoader(\n",
    "    test_dataset,\n",
    "    batch_size=50\n",
    ")"
   ]
  },
  {
   "cell_type": "markdown",
   "id": "RrwYAMMBEUPN",
   "metadata": {
    "id": "RrwYAMMBEUPN"
   },
   "source": [
    "## B.1 - Model creation\n",
    "\n",
    "Create a class MLP that creates an MLP of given width and depth, and use it to create a 3-layer MLP of width $100$. We will assume that `width > 0` and `depth > 0`."
   ]
  },
  {
   "cell_type": "code",
   "execution_count": 118,
   "id": "869e4a92",
   "metadata": {},
   "outputs": [],
   "source": [
    "class MLP(torch.nn.Module):\n",
    "    def __init__(self, input_size: int, output_size: int, width: int, depth: int):\n",
    "        super().__init__()\n",
    "\n",
    "        layers = []\n",
    "        layers.append(nn.Linear(input_size, width))\n",
    "        layers.append(nn.ReLU())\n",
    "\n",
    "        for _ in range(depth - 1):\n",
    "            layers.append(nn.Linear(width, width))\n",
    "            layers.append(nn.ReLU())\n",
    "\n",
    "        layers.append(nn.Linear(width, output_size))\n",
    "\n",
    "        self.model = nn.Sequential(*layers)\n",
    "\n",
    "    def forward(self, x):\n",
    "        return self.model(x)"
   ]
  },
  {
   "cell_type": "markdown",
   "id": "qeWZ7DeNMG20",
   "metadata": {
    "id": "qeWZ7DeNMG20"
   },
   "source": [
    "## B.2 - Loss and optimizer\n",
    "Create a cross entropy loss."
   ]
  },
  {
   "cell_type": "code",
   "execution_count": 119,
   "id": "a85b789e",
   "metadata": {
    "id": "a85b789e"
   },
   "outputs": [],
   "source": [
    "### YOUR CODE HERE ###\n",
    "loss_fn = torch.nn.CrossEntropyLoss()\n"
   ]
  },
  {
   "cell_type": "markdown",
   "id": "ZCnlsh9iMhx_",
   "metadata": {
    "id": "ZCnlsh9iMhx_"
   },
   "source": [
    "## B.3 - Training and testing loops\n",
    "Finally, create the functions `train(model, epoch)` and `test(model)` to train (one epoch with SGD and a learning rate of $10^{-3}$) and test your model."
   ]
  },
  {
   "cell_type": "code",
   "execution_count": 173,
   "id": "377ba512",
   "metadata": {},
   "outputs": [],
   "source": [
    "model = MLP(64, 10, width=100, depth=3)\n",
    "optimizer = torch.optim.SGD(model.parameters(),lr = 1e-3)\n"
   ]
  },
  {
   "cell_type": "code",
   "execution_count": 174,
   "id": "75ee71dc",
   "metadata": {},
   "outputs": [],
   "source": [
    "def train(model : torch.nn.Module, epoch: int):\n",
    "    for X, y in train_dataloader:\n",
    "        optimizer.zero_grad()\n",
    "\n",
    "        out = model(X)\n",
    "        loss = loss_fn(out, y.to(torch.long))\n",
    "\n",
    "        loss.backward()\n",
    "        optimizer.step()\n",
    "\n",
    "\n",
    "def test(model : torch.nn.Module):\n",
    "    y_pred_test = torch.Tensor([])\n",
    "    y_test = torch.Tensor([])\n",
    "\n",
    "    with torch.no_grad():\n",
    "        for X, y in test_dataloader:\n",
    "            out = model(X)\n",
    "            y_pred = torch.argmax(out, dim = -1)\n",
    "\n",
    "            y_pred_test = torch.concat([y_pred_test, y_pred.unsqueeze(dim = -1)])\n",
    "            y_test = torch.concat([y_test, y])\n",
    "        \n",
    "        return y_pred_test, y_test"
   ]
  },
  {
   "cell_type": "markdown",
   "id": "NJ4zS7LoURmL",
   "metadata": {
    "id": "NJ4zS7LoURmL"
   },
   "source": [
    "Train your model for 200 epochs and display the test loss and accuracy every 10 epochs."
   ]
  },
  {
   "cell_type": "code",
   "execution_count": 169,
   "id": "b22e52cb",
   "metadata": {},
   "outputs": [],
   "source": [
    "from IPython.display import clear_output"
   ]
  },
  {
   "cell_type": "code",
   "execution_count": 175,
   "id": "nBmfvtl6UbUe",
   "metadata": {
    "id": "nBmfvtl6UbUe"
   },
   "outputs": [
    {
     "name": "stdout",
     "output_type": "stream",
     "text": [
      "Test accuracy 0.980555534362793\n"
     ]
    }
   ],
   "source": [
    "### YOUR CODE HERE ###\n",
    "history_acc = []\n",
    "\n",
    "for epoch in range(200):\n",
    "    train(model, epoch)\n",
    "    y_pred, y_test = test(model)\n",
    "\n",
    "    acc = (y_pred.squeeze() == y_test.squeeze()).to(torch.float).mean()\n",
    "\n",
    "    clear_output()\n",
    "    print(f\"Test accuracy {acc}\")\n",
    "    history_acc.append(acc)"
   ]
  },
  {
   "cell_type": "code",
   "execution_count": 179,
   "id": "6a0981d1",
   "metadata": {},
   "outputs": [
    {
     "data": {
      "image/png": "[encoded data removed]",
      "text/plain": [
       "<Figure size 640x480 with 1 Axes>"
      ]
     },
     "metadata": {},
     "output_type": "display_data"
    }
   ],
   "source": [
    "plt.title(\"Accuracy\")\n",
    "plt.plot(history_acc)\n",
    "plt.xlabel(\"Epoch\")\n",
    "plt.grid()"
   ]
  },
  {
   "cell_type": "markdown",
   "id": "L-qJbBLLYpRc",
   "metadata": {
    "id": "L-qJbBLLYpRc"
   },
   "source": [
    "## B.4 - Analyze the results\n",
    "\n",
    "Create a confusion matrix on the train and test datasets using `ConfusionMatrixDisplay.from_predictions` from `sklearn.metrics`. Which digits are confused?"
   ]
  },
  {
   "cell_type": "code",
   "execution_count": 182,
   "id": "55f56821",
   "metadata": {
    "id": "55f56821"
   },
   "outputs": [],
   "source": [
    "y_pred_numpy = y_pred.numpy()\n",
    "y_test_numpy = y_test.numpy()"
   ]
  },
  {
   "cell_type": "code",
   "execution_count": 183,
   "id": "177aa44c",
   "metadata": {},
   "outputs": [],
   "source": [
    "from sklearn.metrics import confusion_matrix"
   ]
  },
  {
   "cell_type": "code",
   "execution_count": 185,
   "id": "be6bc816",
   "metadata": {},
   "outputs": [],
   "source": [
    "conf = confusion_matrix(y_test_numpy, y_pred_numpy)\n"
   ]
  },
  {
   "cell_type": "code",
   "execution_count": 187,
   "id": "b9c7c746",
   "metadata": {},
   "outputs": [
    {
     "data": {
      "text/plain": [
       "<Axes: >"
      ]
     },
     "execution_count": 187,
     "metadata": {},
     "output_type": "execute_result"
    },
    {
     "data": {
      "image/png": "[encoded data removed]",
      "text/plain": [
       "<Figure size 640x480 with 2 Axes>"
      ]
     },
     "metadata": {},
     "output_type": "display_data"
    }
   ],
   "source": [
    "import seaborn as sns\n",
    "\n",
    "sns.heatmap(conf, vmax=3)"
   ]
  },
  {
   "cell_type": "markdown",
   "id": "3CLIN5ZGaC5i",
   "metadata": {
    "id": "3CLIN5ZGaC5i"
   },
   "source": [
    "## B.5 - PCA and TSNE visualizations (optional)\n",
    "\n",
    "To check wether the problem is easily to solve, plot the PCA and TSNE visualization of the dataset, where each digit corresponds to a different color. Are the digits/classes well separated?"
   ]
  },
  {
   "cell_type": "code",
   "execution_count": null,
   "id": "75d8d001",
   "metadata": {
    "id": "75d8d001"
   },
   "outputs": [],
   "source": [
    "### YOUR CODE HERE ###"
   ]
  },
  {
   "cell_type": "markdown",
   "id": "62MFdius1-WF",
   "metadata": {
    "id": "62MFdius1-WF"
   },
   "source": [
    "## B.6 - Model complexity (optional)\n",
    "How many parameters does the model have? Are they necessary? Try different architectures, including a linear model (use `bias=False` in `nn.Linear` to remove the bias term)."
   ]
  },
  {
   "cell_type": "code",
   "execution_count": 189,
   "id": "rsdoplnn19ek",
   "metadata": {
    "id": "rsdoplnn19ek"
   },
   "outputs": [
    {
     "data": {
      "text/plain": [
       "27710"
      ]
     },
     "execution_count": 189,
     "metadata": {},
     "output_type": "execute_result"
    }
   ],
   "source": [
    "### YOUR CODE HERE ###\n",
    "sum(p.numel() for p in model.parameters())"
   ]
  }
 ],
 "metadata": {
  "colab": {
   "include_colab_link": true,
   "provenance": []
  },
  "kernelspec": {
   "display_name": "base",
   "language": "python",
   "name": "python3"
  },
  "language_info": {
   "codemirror_mode": {
    "name": "ipython",
    "version": 3
   },
   "file_extension": ".py",
   "mimetype": "text/x-python",
   "name": "python",
   "nbconvert_exporter": "python",
   "pygments_lexer": "ipython3",
   "version": "3.10.9"
  }
 },
 "nbformat": 4,
 "nbformat_minor": 5
}
